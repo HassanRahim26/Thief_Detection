{
 "cells": [
  {
   "cell_type": "code",
   "execution_count": 1,
   "metadata": {},
   "outputs": [],
   "source": [
    "#importing the required libraries\n",
    "import cv2\n",
    "import time\n",
    "import imutils\n",
    "from skimage.metrics import structural_similarity\n",
    "from datetime import datetime\n",
    "\n",
    "def spot_diff(frame1, frame2):   #function which will spot the difference between two images\n",
    "\n",
    "#capturing the video in 2 frames for comparison \n",
    "\tframe1 = frame1[1]\n",
    "\tframe2 = frame2[1]\n",
    "\n",
    "#converting the images from one color space to another\n",
    "\tg1 = cv2.cvtColor(frame1, cv2.COLOR_BGR2GRAY)\n",
    "\tg2 = cv2.cvtColor(frame2, cv2.COLOR_BGR2GRAY)\n",
    "\n",
    "#blur the images using normalized box filter\n",
    "\tg1 = cv2.blur(g1, (2,2))\n",
    "\tg2 = cv2.blur(g2, (2,2))\n",
    "\n",
    "#calculating the structural similarity between two images\n",
    "\t(score, diff) = structural_similarity(g2, g1, full=True)\n",
    "\n",
    "#printing the similarity between two images\n",
    "\tprint(\"Image similarity\", score)\n",
    "\n",
    "\n",
    "\tdiff = (diff * 255).astype(\"uint8\")\n",
    "\tthresh = cv2.threshold(diff, 100, 255, cv2.THRESH_BINARY_INV)[1]   #thresholding\n",
    "\n",
    "\tcontors = cv2.findContours(thresh, cv2.RETR_EXTERNAL, cv2.CHAIN_APPROX_SIMPLE)[0]\n",
    "\tcontors = [c for c in contors if cv2.contourArea(c) > 50]\n",
    "\n",
    "\tif len(contors):\n",
    "\t\tfor c in contors:\n",
    "\t\t\n",
    "\t\t\tx,y,w,h = cv2.boundingRect(c)  #creating a rectangle\n",
    "\n",
    "\t\t\tcv2.rectangle(frame1, (x,y), (x+w, y+h), (0,255,0), 2)\t #if any difference found between both images rectangle will be drawn over that area\n",
    "\n",
    "\telse:\n",
    "\t\tprint(\"nothing stolen\")\n",
    "\t\treturn 0\n",
    "\n",
    "\tcv2.imshow(\"diff\", thresh) #shows the difference\n",
    "\tcv2.imshow(\"win1\", frame1)\n",
    "#\tcv2.imwrite(\"stolen/\"+datetime.now().strftime('%-y-%-m-%-d-%H:%M:%S')+\".jpg\", frame1)\n",
    "\tcv2.waitKey(0)\n",
    "\tcv2.destroyAllWindows()   #destroys all windows created\n",
    "\n",
    "\treturn 1\n",
    "\n"
   ]
  },
  {
   "cell_type": "code",
   "execution_count": null,
   "metadata": {},
   "outputs": [],
   "source": []
  }
 ],
 "metadata": {
  "kernelspec": {
   "display_name": "Python 3",
   "language": "python",
   "name": "python3"
  },
  "language_info": {
   "codemirror_mode": {
    "name": "ipython",
    "version": 3
   },
   "file_extension": ".py",
   "mimetype": "text/x-python",
   "name": "python",
   "nbconvert_exporter": "python",
   "pygments_lexer": "ipython3",
   "version": "3.7.6"
  }
 },
 "nbformat": 4,
 "nbformat_minor": 4
}
