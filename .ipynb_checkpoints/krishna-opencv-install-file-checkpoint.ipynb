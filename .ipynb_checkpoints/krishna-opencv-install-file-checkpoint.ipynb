{
 "cells": [
  {
   "cell_type": "code",
   "execution_count": 1,
   "metadata": {},
   "outputs": [
    {
     "name": "stdout",
     "output_type": "stream",
     "text": [
      "Collecting opencv-python\n",
      "  Using cached opencv_python-4.5.5.62-cp36-abi3-win_amd64.whl (35.4 MB)\n",
      "Requirement already satisfied: numpy>=1.17.3; python_version >= \"3.8\" in c:\\users\\krish\\pythonproj\\env\\lib\\site-packages (from opencv-python) (1.19.1)\n",
      "Installing collected packages: opencv-python\n",
      "Successfully installed opencv-python-4.5.5.62\n"
     ]
    }
   ],
   "source": [
    "!pip install opencv-python"
   ]
  },
  {
   "cell_type": "code",
   "execution_count": 2,
   "metadata": {},
   "outputs": [],
   "source": [
    "import cv2"
   ]
  },
  {
   "cell_type": "code",
   "execution_count": 3,
   "metadata": {},
   "outputs": [
    {
     "name": "stdout",
     "output_type": "stream",
     "text": [
      "Collecting imutils\n",
      "  Downloading imutils-0.5.4.tar.gz (17 kB)\n",
      "Building wheels for collected packages: imutils\n",
      "  Building wheel for imutils (setup.py): started\n",
      "  Building wheel for imutils (setup.py): finished with status 'done'\n",
      "  Created wheel for imutils: filename=imutils-0.5.4-py3-none-any.whl size=25862 sha256=60698b3a956d04651c4a16794fa2ff4056775af27eb3b75cfc01cf7ee4f7d83b\n",
      "  Stored in directory: c:\\users\\krish\\appdata\\local\\pip\\cache\\wheels\\59\\1b\\52\\0dea905f8278d5514dc4d0be5e251967f8681670cadd3dca89\n",
      "Successfully built imutils\n",
      "Installing collected packages: imutils\n",
      "Successfully installed imutils-0.5.4\n",
      "Note: you may need to restart the kernel to use updated packages.\n"
     ]
    }
   ],
   "source": [
    "pip install imutils"
   ]
  },
  {
   "cell_type": "code",
   "execution_count": 4,
   "metadata": {},
   "outputs": [],
   "source": [
    "import imutils"
   ]
  },
  {
   "cell_type": "code",
   "execution_count": 5,
   "metadata": {},
   "outputs": [
    {
     "name": "stdout",
     "output_type": "stream",
     "text": [
      "Collecting argparse\n",
      "  Downloading argparse-1.4.0-py2.py3-none-any.whl (23 kB)\n",
      "Installing collected packages: argparse\n",
      "Successfully installed argparse-1.4.0\n",
      "Note: you may need to restart the kernel to use updated packages.\n"
     ]
    }
   ],
   "source": [
    "pip install argparse"
   ]
  },
  {
   "cell_type": "code",
   "execution_count": 6,
   "metadata": {},
   "outputs": [],
   "source": [
    "import argparse"
   ]
  },
  {
   "cell_type": "code",
   "execution_count": 7,
   "metadata": {},
   "outputs": [
    {
     "name": "stdout",
     "output_type": "stream",
     "text": [
      "Note: you may need to restart the kernel to use updated packages.\n"
     ]
    },
    {
     "name": "stderr",
     "output_type": "stream",
     "text": [
      "ERROR: Could not find a version that satisfies the requirement tkinter.font (from versions: none)\n",
      "ERROR: No matching distribution found for tkinter.font\n"
     ]
    }
   ],
   "source": [
    "pip install tkinter.font"
   ]
  },
  {
   "cell_type": "code",
   "execution_count": 8,
   "metadata": {},
   "outputs": [
    {
     "name": "stdout",
     "output_type": "stream",
     "text": [
      "Collecting ipynb\n",
      "  Downloading ipynb-0.5.1-py3-none-any.whl (6.9 kB)\n",
      "Installing collected packages: ipynb\n",
      "Successfully installed ipynb-0.5.1\n",
      "Note: you may need to restart the kernel to use updated packages.\n"
     ]
    }
   ],
   "source": [
    "pip install ipynb"
   ]
  },
  {
   "cell_type": "code",
   "execution_count": 2,
   "metadata": {},
   "outputs": [
    {
     "name": "stdout",
     "output_type": "stream",
     "text": [
      "Collecting scikit-image\n",
      "  Downloading scikit_image-0.19.1-cp38-cp38-win_amd64.whl (12.5 MB)\n",
      "Requirement already satisfied: numpy>=1.17.0 in c:\\users\\krish\\pythonproj\\env\\lib\\site-packages (from scikit-image) (1.19.1)\n",
      "Collecting imageio>=2.4.1\n",
      "  Downloading imageio-2.13.5-py3-none-any.whl (3.3 MB)\n",
      "Collecting tifffile>=2019.7.26\n",
      "  Downloading tifffile-2021.11.2-py3-none-any.whl (178 kB)\n",
      "Requirement already satisfied: scipy>=1.4.1 in c:\\users\\krish\\pythonproj\\env\\lib\\site-packages (from scikit-image) (1.5.0)\n",
      "Requirement already satisfied: packaging>=20.0 in c:\\users\\krish\\pythonproj\\env\\lib\\site-packages (from scikit-image) (20.4)\n",
      "Collecting PyWavelets>=1.1.1\n",
      "Note: you may need to restart the kernel to use updated packages.\n"
     ]
    },
    {
     "name": "stderr",
     "output_type": "stream",
     "text": [
      "ERROR: After October 2020 you may experience errors when installing or updating packages. This is because pip will change the way that it resolves dependency conflicts.\n",
      "\n",
      "We recommend you use --use-feature=2020-resolver to test your packages with the new resolver before it becomes the default.\n",
      "\n",
      "imageio 2.13.5 requires pillow>=8.3.2, but you'll have pillow 8.0.0 which is incompatible.\n"
     ]
    },
    {
     "name": "stdout",
     "output_type": "stream",
     "text": [
      "  Downloading PyWavelets-1.2.0-cp38-cp38-win_amd64.whl (4.2 MB)\n",
      "Requirement already satisfied: pillow!=7.1.0,!=7.1.1,!=8.3.0,>=6.1.0 in c:\\users\\krish\\pythonproj\\env\\lib\\site-packages (from scikit-image) (8.0.0)\n",
      "Collecting networkx>=2.2\n",
      "  Downloading networkx-2.6.3-py3-none-any.whl (1.9 MB)\n",
      "Requirement already satisfied: pyparsing>=2.0.2 in c:\\users\\krish\\pythonproj\\env\\lib\\site-packages (from packaging>=20.0->scikit-image) (2.4.7)\n",
      "Requirement already satisfied: six in c:\\users\\krish\\pythonproj\\env\\lib\\site-packages (from packaging>=20.0->scikit-image) (1.15.0)\n",
      "Installing collected packages: imageio, tifffile, PyWavelets, networkx, scikit-image\n",
      "Successfully installed PyWavelets-1.2.0 imageio-2.13.5 networkx-2.6.3 scikit-image-0.19.1 tifffile-2021.11.2\n"
     ]
    }
   ],
   "source": [
    "pip install scikit-image"
   ]
  },
  {
   "cell_type": "code",
   "execution_count": 3,
   "metadata": {},
   "outputs": [
    {
     "name": "stdout",
     "output_type": "stream",
     "text": [
      "Collecting notifly\n",
      "  Using cached notifly-1.3.1-py3-none-any.whl (10 kB)\n",
      "Collecting python-dotenv\n",
      "  Downloading python_dotenv-0.19.2-py2.py3-none-any.whl (17 kB)\n",
      "Collecting requests\n",
      "  Downloading requests-2.27.1-py2.py3-none-any.whl (63 kB)\n",
      "Collecting psutil\n",
      "  Downloading psutil-5.9.0-cp38-cp38-win_amd64.whl (246 kB)\n",
      "Collecting numpy==1.19.3\n",
      "  Using cached numpy-1.19.3-cp38-cp38-win_amd64.whl (13.3 MB)\n",
      "Collecting slackclient\n",
      "  Using cached slackclient-2.9.3-py2.py3-none-any.whl (96 kB)\n",
      "Requirement already satisfied: matplotlib in c:\\users\\krish\\pythonproj\\env\\lib\\site-packages (from notifly) (3.3.2)\n",
      "Collecting urllib3<1.27,>=1.21.1\n",
      "  Downloading urllib3-1.26.7-py2.py3-none-any.whl (138 kB)\n",
      "Collecting idna<4,>=2.5; python_version >= \"3\"\n",
      "  Downloading idna-3.3-py3-none-any.whl (61 kB)\n",
      "Collecting charset-normalizer~=2.0.0; python_version >= \"3\"\n",
      "  Downloading charset_normalizer-2.0.10-py3-none-any.whl (39 kB)\n",
      "Requirement already satisfied: certifi>=2017.4.17 in c:\\users\\krish\\pythonproj\\env\\lib\\site-packages (from requests->notifly) (2020.6.20)\n",
      "Collecting aiohttp<4.0.0,>3.5.2\n",
      "  Using cached aiohttp-3.8.1-cp38-cp38-win_amd64.whl (555 kB)\n",
      "Requirement already satisfied: pyparsing!=2.0.4,!=2.1.2,!=2.1.6,>=2.0.3 in c:\\users\\krish\\pythonproj\\env\\lib\\site-packages (from matplotlib->notifly) (2.4.7)\n",
      "Requirement already satisfied: python-dateutil>=2.1 in c:\\users\\krish\\pythonproj\\env\\lib\\site-packages (from matplotlib->notifly) (2.8.1)\n",
      "Requirement already satisfied: pillow>=6.2.0 in c:\\users\\krish\\pythonproj\\env\\lib\\site-packages (from matplotlib->notifly) (8.0.0)\n",
      "Requirement already satisfied: cycler>=0.10 in c:\\users\\krish\\pythonproj\\env\\lib\\site-packages (from matplotlib->notifly) (0.10.0)\n",
      "Requirement already satisfied: kiwisolver>=1.0.1 in c:\\users\\krish\\pythonproj\\env\\lib\\site-packages (from matplotlib->notifly) (1.2.0)\n",
      "Requirement already satisfied: attrs>=17.3.0 in c:\\users\\krish\\pythonproj\\env\\lib\\site-packages (from aiohttp<4.0.0,>3.5.2->slackclient->notifly) (20.2.0)\n",
      "Collecting async-timeout<5.0,>=4.0.0a3\n",
      "  Downloading async_timeout-4.0.2-py3-none-any.whl (5.8 kB)\n",
      "Collecting multidict<7.0,>=4.5\n",
      "  Using cached multidict-5.2.0-cp38-cp38-win_amd64.whl (45 kB)\n",
      "Collecting yarl<2.0,>=1.0\n",
      "  Using cached yarl-1.7.2-cp38-cp38-win_amd64.whl (122 kB)\n",
      "Collecting frozenlist>=1.1.1\n",
      "  Using cached frozenlist-1.2.0-cp38-cp38-win_amd64.whl (83 kB)\n",
      "Collecting aiosignal>=1.1.2\n",
      "  Using cached aiosignal-1.2.0-py3-none-any.whl (8.2 kB)\n",
      "Requirement already satisfied: six>=1.5 in c:\\users\\krish\\pythonproj\\env\\lib\\site-packages (from python-dateutil>=2.1->matplotlib->notifly) (1.15.0)\n",
      "Installing collected packages: python-dotenv, urllib3, idna, charset-normalizer, requests, psutil, numpy, async-timeout, multidict, yarl, frozenlist, aiosignal, aiohttp, slackclient, notifly\n",
      "  Attempting uninstall: numpy\n",
      "    Found existing installation: numpy 1.19.1\n",
      "    Uninstalling numpy-1.19.1:\n",
      "      Successfully uninstalled numpy-1.19.1\n",
      "Successfully installed aiohttp-3.8.1 aiosignal-1.2.0 async-timeout-4.0.2 charset-normalizer-2.0.10 frozenlist-1.2.0 idna-3.3 multidict-5.2.0 notifly-1.3.1 numpy-1.19.3 psutil-5.9.0 python-dotenv-0.19.2 requests-2.27.1 slackclient-2.9.3 urllib3-1.26.7 yarl-1.7.2\n",
      "Note: you may need to restart the kernel to use updated packages.\n"
     ]
    },
    {
     "name": "stderr",
     "output_type": "stream",
     "text": [
      "ERROR: After October 2020 you may experience errors when installing or updating packages. This is because pip will change the way that it resolves dependency conflicts.\n",
      "\n",
      "We recommend you use --use-feature=2020-resolver to test your packages with the new resolver before it becomes the default.\n",
      "\n",
      "imageio 2.13.5 requires pillow>=8.3.2, but you'll have pillow 8.0.0 which is incompatible.\n"
     ]
    }
   ],
   "source": [
    "pip install notifly"
   ]
  },
  {
   "cell_type": "code",
   "execution_count": 9,
   "metadata": {},
   "outputs": [],
   "source": [
    "from notifly import telegram        #import the package\n",
    "x = telegram.Notifier('5088749386:AAGJFUrpPViwCB_JPCTzMX_LTwWNOy8OWJc')        #create object of class Notifier\n",
    "x.send_message('mKrishna')       #send message\n",
    "x.session_dump()        #creates folder named 'downloads' in local folder, downloads/saves message,chat details for current session in 'sessio_dump.json' file\n"
   ]
  },
  {
   "cell_type": "code",
   "execution_count": null,
   "metadata": {},
   "outputs": [],
   "source": [
    "from notifly import telegram\n",
    "\n",
    "x = telegram.Notifier('5088749386:AAGJFUrpPViwCB_JPCTzMX_LTwWNOy8OWJc')        #create object of class Notifier\n",
    "x.send_message('Intruder Captured at')       #send Stolen/Intruder Notification Message to protection Center\n",
    "x.session_dump()\n",
    "            "
   ]
  },
  {
   "cell_type": "code",
   "execution_count": null,
   "metadata": {},
   "outputs": [],
   "source": []
  },
  {
   "cell_type": "code",
   "execution_count": null,
   "metadata": {},
   "outputs": [],
   "source": []
  }
 ],
 "metadata": {
  "kernelspec": {
   "display_name": "Python 3",
   "language": "python",
   "name": "python3"
  },
  "language_info": {
   "codemirror_mode": {
    "name": "ipython",
    "version": 3
   },
   "file_extension": ".py",
   "mimetype": "text/x-python",
   "name": "python",
   "nbconvert_exporter": "python",
   "pygments_lexer": "ipython3",
   "version": "3.8.5"
  }
 },
 "nbformat": 4,
 "nbformat_minor": 4
}
