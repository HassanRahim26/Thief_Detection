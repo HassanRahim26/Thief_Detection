{
 "cells": [
  {
   "cell_type": "code",
   "execution_count": 1,
   "metadata": {},
   "outputs": [
    {
     "ename": "ModuleNotFoundError",
     "evalue": "No module named 'cv2'",
     "output_type": "error",
     "traceback": [
      "\u001b[1;31m---------------------------------------------------------------------------\u001b[0m",
      "\u001b[1;31mModuleNotFoundError\u001b[0m                       Traceback (most recent call last)",
      "\u001b[1;32m<ipython-input-1-1d516fddef4e>\u001b[0m in \u001b[0;36m<module>\u001b[1;34m\u001b[0m\n\u001b[0;32m      1\u001b[0m \u001b[1;31m#importing necessary libraries\u001b[0m\u001b[1;33m\u001b[0m\u001b[1;33m\u001b[0m\u001b[1;33m\u001b[0m\u001b[0m\n\u001b[0;32m      2\u001b[0m \u001b[1;32mimport\u001b[0m \u001b[0mtkinter\u001b[0m \u001b[1;32mas\u001b[0m \u001b[0mtk\u001b[0m\u001b[1;33m\u001b[0m\u001b[1;33m\u001b[0m\u001b[0m\n\u001b[1;32m----> 3\u001b[1;33m \u001b[1;32mimport\u001b[0m \u001b[0mcv2\u001b[0m\u001b[1;33m\u001b[0m\u001b[1;33m\u001b[0m\u001b[0m\n\u001b[0m\u001b[0;32m      4\u001b[0m \u001b[1;32mimport\u001b[0m \u001b[0mimutils\u001b[0m\u001b[1;33m\u001b[0m\u001b[1;33m\u001b[0m\u001b[0m\n\u001b[0;32m      5\u001b[0m \u001b[1;32mfrom\u001b[0m \u001b[0margparse\u001b[0m \u001b[1;32mimport\u001b[0m \u001b[0mArgumentParser\u001b[0m\u001b[1;33m\u001b[0m\u001b[1;33m\u001b[0m\u001b[0m\n",
      "\u001b[1;31mModuleNotFoundError\u001b[0m: No module named 'cv2'"
     ]
    }
   ],
   "source": [
    "#importing necessary libraries\n",
    "import tkinter as tk\n",
    "import cv2\n",
    "import imutils\n",
    "from argparse import ArgumentParser\n",
    "import sys\n",
    "import argparse\n",
    "import tkinter.font as font\n",
    "from ipynb.fs.full.find_motion_person import find_motion_person\n",
    "\n",
    "    \n",
    "window =  tk.Tk()\n",
    "window.title = \"Thief Detection\"\n",
    "window.geometry(\"550x300\")\n",
    "\n",
    "\n",
    "#label\n",
    "label = tk.Label(window, text=\"Welcome\")\n",
    "label.grid(row=0, column=1)\n",
    "label['font'] = font.Font(size=35, weight='bold',family='Helvetica')\n",
    "\n",
    "#button font\n",
    "\n",
    "btn_font = font.Font(size=15, weight='bold',family='Helvetica')\n",
    "\n",
    "\n",
    "#button main\n",
    "button1 = tk.Button(window, text=\"spot diff\",fg=\"green\", height=3, width=10, command=find_motion_person)\n",
    "button1['font'] = btn_font\n",
    "button1.grid(row=1, pady=(25,10),padx=(10,0), column = 0)\n",
    "\n",
    "\n",
    "#exit button\n",
    "button2 = tk.Button(window, text=\"exit\",fg=\"red\", height=3, width=10, command=window.quit)\n",
    "button2['font'] = btn_font\n",
    "button2.grid(row=1, pady=(25,10), column=2)\n",
    "\n",
    "\n",
    "#footer\n",
    "label2 = tk.Label(window, text=\"Thankyou for using\")\n",
    "label2.grid(row=2, columnspan = 3)\n",
    "label2['font'] = font.Font(size=20, weight='bold',family='Helvetica')\n",
    "\n",
    "\n",
    "window.mainloop()\n",
    "\n"
   ]
  },
  {
   "cell_type": "code",
   "execution_count": null,
   "metadata": {},
   "outputs": [],
   "source": []
  }
 ],
 "metadata": {
  "kernelspec": {
   "display_name": "Python 3",
   "language": "python",
   "name": "python3"
  },
  "language_info": {
   "codemirror_mode": {
    "name": "ipython",
    "version": 3
   },
   "file_extension": ".py",
   "mimetype": "text/x-python",
   "name": "python",
   "nbconvert_exporter": "python",
   "pygments_lexer": "ipython3",
   "version": "3.8.5"
  }
 },
 "nbformat": 4,
 "nbformat_minor": 4
}
