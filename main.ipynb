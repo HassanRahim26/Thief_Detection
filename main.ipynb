{
 "cells": [
  {
   "cell_type": "code",
   "execution_count": 1,
   "metadata": {},
   "outputs": [
    {
     "name": "stdout",
     "output_type": "stream",
     "text": [
      "waiting for 2 seconds\n"
     ]
    },
    {
     "name": "stderr",
     "output_type": "stream",
     "text": [
      "Exception in Tkinter callback\n",
      "Traceback (most recent call last):\n",
      "  File \"C:\\Users\\krish\\pythonproj\\env\\lib\\tkinter\\__init__.py\", line 1883, in __call__\n",
      "    return self.func(*args)\n",
      "  File \"C:\\Users\\krish\\Downloads\\SWOC-930\\Thief_Detection\\find_motion_person.ipynb\", line 126, in find_motion_person\n",
      "    \"            \\n\",\n",
      "  File \"C:\\Users\\krish\\pythonproj\\env\\lib\\smtplib.py\", line 734, in login\n",
      "    raise last_exception\n",
      "  File \"C:\\Users\\krish\\pythonproj\\env\\lib\\smtplib.py\", line 723, in login\n",
      "    (code, resp) = self.auth(\n",
      "  File \"C:\\Users\\krish\\pythonproj\\env\\lib\\smtplib.py\", line 646, in auth\n",
      "    raise SMTPAuthenticationError(code, resp)\n",
      "smtplib.SMTPAuthenticationError: (535, b'5.7.8 Username and Password not accepted. Learn more at\\n5.7.8  https://support.google.com/mail/?p=BadCredentials 145sm4460541pgf.88 - gsmtp')\n"
     ]
    },
    {
     "name": "stdout",
     "output_type": "stream",
     "text": [
      "waiting for 2 seconds\n",
      "0.0\n",
      "0.09799909591674805\n",
      "0.3150007724761963\n",
      "0.4269993305206299\n",
      "0.5266983509063721\n",
      "0.6346933841705322\n",
      "0.74135422706604\n",
      "0.8483531475067139\n",
      "0.0\n"
     ]
    },
    {
     "name": "stderr",
     "output_type": "stream",
     "text": [
      "Exception in Tkinter callback\n",
      "Traceback (most recent call last):\n",
      "  File \"C:\\Users\\krish\\pythonproj\\env\\lib\\tkinter\\__init__.py\", line 1883, in __call__\n",
      "    return self.func(*args)\n",
      "  File \"C:\\Users\\krish\\Downloads\\SWOC-930\\Thief_Detection\\find_motion_person.ipynb\", line 126, in find_motion_person\n",
      "    \"            \\n\",\n",
      "  File \"C:\\Users\\krish\\pythonproj\\env\\lib\\smtplib.py\", line 734, in login\n",
      "    raise last_exception\n",
      "  File \"C:\\Users\\krish\\pythonproj\\env\\lib\\smtplib.py\", line 723, in login\n",
      "    (code, resp) = self.auth(\n",
      "  File \"C:\\Users\\krish\\pythonproj\\env\\lib\\smtplib.py\", line 646, in auth\n",
      "    raise SMTPAuthenticationError(code, resp)\n",
      "smtplib.SMTPAuthenticationError: (535, b'5.7.8 Username and Password not accepted. Learn more at\\n5.7.8  https://support.google.com/mail/?p=BadCredentials r11sm5134615pff.81 - gsmtp')\n"
     ]
    }
   ],
   "source": [
    "#importing necessary libraries\n",
    "import tkinter as tk\n",
    "import cv2\n",
    "import imutils\n",
    "from argparse import ArgumentParser\n",
    "import sys\n",
    "import argparse\n",
    "import tkinter.font as font\n",
    "from ipynb.fs.full.find_motion_person import find_motion_person\n",
    "\n",
    "    \n",
    "window =  tk.Tk()\n",
    "window.title = \"Thief Detection\"\n",
    "window.geometry(\"550x300\")\n",
    "\n",
    "\n",
    "#label\n",
    "label = tk.Label(window, text=\"Welcome\")\n",
    "label.grid(row=0, column=1)\n",
    "label['font'] = font.Font(size=35, weight='bold',family='Helvetica')\n",
    "\n",
    "#button font\n",
    "\n",
    "btn_font = font.Font(size=15, weight='bold',family='Helvetica')\n",
    "\n",
    "\n",
    "#button main\n",
    "button1 = tk.Button(window, text=\"spot diff\",fg=\"green\", height=3, width=10, command=find_motion_person)\n",
    "button1['font'] = btn_font\n",
    "button1.grid(row=1, pady=(25,10),padx=(10,0), column = 0)\n",
    "\n",
    "\n",
    "#exit button\n",
    "button2 = tk.Button(window, text=\"exit\",fg=\"red\", height=3, width=10, command=window.quit)\n",
    "button2['font'] = btn_font\n",
    "button2.grid(row=1, pady=(25,10), column=2)\n",
    "\n",
    "\n",
    "#footer\n",
    "label2 = tk.Label(window, text=\"Thankyou for using\")\n",
    "label2.grid(row=2, columnspan = 3)\n",
    "label2['font'] = font.Font(size=20, weight='bold',family='Helvetica')\n",
    "\n",
    "\n",
    "window.mainloop()"
   ]
  },
  {
   "cell_type": "code",
   "execution_count": null,
   "metadata": {},
   "outputs": [],
   "source": []
  },
  {
   "cell_type": "code",
   "execution_count": null,
   "metadata": {},
   "outputs": [],
   "source": []
  }
 ],
 "metadata": {
  "kernelspec": {
   "display_name": "Python 3",
   "language": "python",
   "name": "python3"
  },
  "language_info": {
   "codemirror_mode": {
    "name": "ipython",
    "version": 3
   },
   "file_extension": ".py",
   "mimetype": "text/x-python",
   "name": "python",
   "nbconvert_exporter": "python",
   "pygments_lexer": "ipython3",
   "version": "3.8.5"
  }
 },
 "nbformat": 4,
 "nbformat_minor": 4
}
