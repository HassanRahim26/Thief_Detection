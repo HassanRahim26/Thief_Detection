{
 "cells": [
  {
   "cell_type": "code",
   "execution_count": null,
   "metadata": {},
   "outputs": [
    {
     "name": "stdout",
     "output_type": "stream",
     "text": [
      "waiting for 2 seconds\n",
      "0.0\n",
      "0.0\n",
      "0.0\n",
      "0.14162182807922363\n",
      "0.30925726890563965\n",
      "0.4699251651763916\n",
      "0.6187241077423096\n",
      "0.0\n",
      "0.3122248649597168\n"
     ]
    }
   ],
   "source": [
    "#importing necessary libraries\n",
    "import tkinter as tk\n",
    "import cv2\n",
    "import imutils\n",
    "from argparse import ArgumentParser\n",
    "import sys\n",
    "import argparse\n",
    "import tkinter.font as font\n",
    "from ipynb.fs.full.find_motion import find_motion\n",
    "\n",
    "    \n",
    "window =  tk.Tk()\n",
    "window.title = \"find stolen\"\n",
    "window.geometry(\"550x300\")\n",
    "\n",
    "\n",
    "#label\n",
    "label = tk.Label(window, text=\"Welcome\")\n",
    "label.grid(row=0, column=1)\n",
    "label['font'] = font.Font(size=35, weight='bold',family='Helvetica')\n",
    "\n",
    "#button font\n",
    "\n",
    "btn_font = font.Font(size=15, weight='bold',family='Helvetica')\n",
    "\n",
    "\n",
    "#button main\n",
    "button1 = tk.Button(window, text=\"spot diff\",fg=\"green\", height=3, width=10, command=find_motion)\n",
    "button1['font'] = btn_font\n",
    "button1.grid(row=1, pady=(25,10),padx=(10,0), column = 0)\n",
    "\n",
    "\n",
    "#exit button\n",
    "button2 = tk.Button(window, text=\"exit\",fg=\"red\", height=3, width=10, command=window.quit)\n",
    "button2['font'] = btn_font\n",
    "button2.grid(row=1, pady=(25,10), column=2)\n",
    "\n",
    "\n",
    "#footer\n",
    "label2 = tk.Label(window, text=\"Thankyou for using\")\n",
    "label2.grid(row=2, columnspan = 3)\n",
    "label2['font'] = font.Font(size=20, weight='bold',family='Helvetica')\n",
    "\n",
    "\n",
    "window.mainloop()\n",
    "\n"
   ]
  },
  {
   "cell_type": "code",
   "execution_count": null,
   "metadata": {},
   "outputs": [],
   "source": []
  }
 ],
 "metadata": {
  "kernelspec": {
   "display_name": "Python 3",
   "language": "python",
   "name": "python3"
  },
  "language_info": {
   "codemirror_mode": {
    "name": "ipython",
    "version": 3
   },
   "file_extension": ".py",
   "mimetype": "text/x-python",
   "name": "python",
   "nbconvert_exporter": "python",
   "pygments_lexer": "ipython3",
   "version": "3.7.6"
  }
 },
 "nbformat": 4,
 "nbformat_minor": 4
}
